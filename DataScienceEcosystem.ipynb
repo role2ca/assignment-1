{
  "metadata": {
    "kernelspec": {
      "name": "python",
      "display_name": "Python (Pyodide)",
      "language": "python"
    },
    "language_info": {
      "codemirror_mode": {
        "name": "python",
        "version": 3
      },
      "file_extension": ".py",
      "mimetype": "text/x-python",
      "name": "python",
      "nbconvert_exporter": "python",
      "pygments_lexer": "ipython3",
      "version": "3.8"
    }
  },
  "nbformat_minor": 5,
  "nbformat": 4,
  "cells": [
    {
      "id": "0c7020e7-34c4-42cb-a2d1-5dcc6631f769",
      "cell_type": "markdown",
      "source": "# Data Science Tools and Ecosystem",
      "metadata": {}
    },
    {
      "id": "0f3d56d8-810a-4ed7-82cd-c68418bfcc9e",
      "cell_type": "markdown",
      "source": "# Introduction\n\nIn this notebook, Data Science Tools and Ecosystem are summarized.",
      "metadata": {}
    },
    {
      "id": "4e674060-d66d-41ff-b80b-94c9a5031bd8",
      "cell_type": "markdown",
      "source": "---\n\nSome of the popular languages that Data Scientists use are:",
      "metadata": {}
    },
    {
      "id": "782eece5-4cfe-45d2-a343-257c8df1c62e",
      "cell_type": "markdown",
      "source": "### Commonly Used Languages for Data Science\n\n1. Python\n2. R\n3. SQL\n4. Scala\n5. Julia",
      "metadata": {}
    },
    {
      "id": "dd47810e-95b3-47a3-9724-cb8f791a30c8",
      "cell_type": "markdown",
      "source": "### Commonly Used Libraries for Data Science\n\n#### **Python:**\n1. NumPy – Numerical computing  \n2. Pandas – Data manipulation & analysis  \n3. Seaborn – Statistical data visualization  \n4. Scikit-learn – Machine learning  \n\n#### **R:**\n1. ggplot2 – Data visualization  \n2. dplyr – Data manipulation  \n3. caret – Machine learning  ",
      "metadata": {}
    },
    {
      "id": "c7d90cfb-155f-4d3c-bcd7-bb3c984d4430",
      "cell_type": "markdown",
      "source": "### Data Science Tools\n\n| Data Science Tools |\n|--------------------|\n| Jupyter Notebook  |\n| RStudio          |\n| JupyterLite  |",
      "metadata": {}
    },
    {
      "id": "26006155-dad4-407a-bb5f-dc77a1454e40",
      "cell_type": "markdown",
      "source": "### Below are a few examples of evaluating arithmetic expressions in Python",
      "metadata": {}
    },
    {
      "id": "694cc63f-f3d1-4bc5-9bb5-025ebe8d68b0",
      "cell_type": "code",
      "source": "# This is a simple arithmetic expression to multiply then add integers\nresult = (3 * 4) + 5\nresult",
      "metadata": {
        "trusted": true
      },
      "outputs": [
        {
          "execution_count": 2,
          "output_type": "execute_result",
          "data": {
            "text/plain": "17"
          },
          "metadata": {}
        }
      ],
      "execution_count": 2
    },
    {
      "id": "5771e1f1-b489-4bd3-9dd9-ba000939e4ea",
      "cell_type": "code",
      "source": "# This will convert 200 minutes to hours by dividing by 60\nminutes = 200\nhours = minutes / 60\nhours\n",
      "metadata": {
        "trusted": true
      },
      "outputs": [
        {
          "execution_count": 3,
          "output_type": "execute_result",
          "data": {
            "text/plain": "3.3333333333333335"
          },
          "metadata": {}
        }
      ],
      "execution_count": 3
    },
    {
      "id": "09434bc4-073e-47d9-83a9-890a27ef2d54",
      "cell_type": "markdown",
      "source": "**Objectives:**\n\n- List popular languages for Data Science\n- Understand the commonly used libraries in Data Science\n- Learn proficient Tools used for Data Science\n- Have a basic knowledge of the programming languages used\n- Understand how to create notebook for Data Science\n",
      "metadata": {}
    },
    {
      "id": "b6a46222-d0a3-49cf-b877-42eb03bc48b9",
      "cell_type": "markdown",
      "source": "## Author \nRoberta",
      "metadata": {}
    },
    {
      "id": "0058dc42-7127-4bf4-acfd-24d1fc6ec97c",
      "cell_type": "code",
      "source": "",
      "metadata": {
        "trusted": true
      },
      "outputs": [],
      "execution_count": null
    }
  ]
}